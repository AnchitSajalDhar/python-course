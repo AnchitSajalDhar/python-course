{
 "cells": [
  {
   "cell_type": "code",
   "execution_count": 1,
   "metadata": {},
   "outputs": [],
   "source": [
    "import pandas as pd\n",
    "import numpy as np\n",
    "import re\n"
   ]
  },
  {
   "cell_type": "code",
   "execution_count": 2,
   "metadata": {},
   "outputs": [
    {
     "name": "stdout",
     "output_type": "stream",
     "text": [
      "0    Amit\n",
      "1     Bob\n",
      "2    Kate\n",
      "3       A\n",
      "4       b\n",
      "5     NaN\n",
      "6     Car\n",
      "7     dog\n",
      "8     cat\n",
      "dtype: object\n"
     ]
    }
   ],
   "source": [
    "series_1 = pd.Series(['Amit', 'Bob', 'Kate', 'A', 'b',\n",
    "                      np.nan, 'Car', 'dog', 'cat'])\n",
    "print(series_1)"
   ]
  },
  {
   "cell_type": "code",
   "execution_count": 3,
   "metadata": {},
   "outputs": [
    {
     "name": "stdout",
     "output_type": "stream",
     "text": [
      "['amit', 'bob', 'kate', 'a', 'b', 'nan', 'car', 'dog', 'cat']\n"
     ]
    }
   ],
   "source": [
    "series_lower_cases = [str(ele).lower() for ele in series_1]\n",
    "print(series_lower_cases)"
   ]
  },
  {
   "cell_type": "code",
   "execution_count": 4,
   "metadata": {},
   "outputs": [
    {
     "name": "stdout",
     "output_type": "stream",
     "text": [
      "['AMIT', 'BOB', 'KATE', 'A', 'B', 'NAN', 'CAR', 'DOG', 'CAT']\n"
     ]
    }
   ],
   "source": [
    "series_upper_cases = [str(ele).upper() for ele in series_1]\n",
    "print(series_upper_cases)\n"
   ]
  },
  {
   "cell_type": "code",
   "execution_count": 5,
   "metadata": {},
   "outputs": [
    {
     "name": "stdout",
     "output_type": "stream",
     "text": [
      "9\n"
     ]
    }
   ],
   "source": [
    "print(len(series_1))"
   ]
  },
  {
   "cell_type": "code",
   "execution_count": 6,
   "metadata": {},
   "outputs": [
    {
     "name": "stdout",
     "output_type": "stream",
     "text": [
      "0      Atul\n",
      "1     John \n",
      "2     jack \n",
      "3       Sam\n",
      "dtype: object\n"
     ]
    }
   ],
   "source": [
    "series_2 = pd.Series([' Atul', 'John ', ' jack ', 'Sam'])\n",
    "print(series_2)\n"
   ]
  },
  {
   "cell_type": "code",
   "execution_count": 7,
   "metadata": {},
   "outputs": [
    {
     "name": "stdout",
     "output_type": "stream",
     "text": [
      "['Atul', 'John', 'jack', 'Sam']\n"
     ]
    }
   ],
   "source": [
    "series_stripped = [str(ele).strip() for ele in series_2]\n",
    "print(series_stripped)"
   ]
  },
  {
   "cell_type": "code",
   "execution_count": 8,
   "metadata": {},
   "outputs": [
    {
     "name": "stdout",
     "output_type": "stream",
     "text": [
      "['Atul', 'John ', 'jack ', 'Sam']\n"
     ]
    }
   ],
   "source": [
    "series_lstripped = [str(ele).lstrip() for ele in series_2]\n",
    "print(series_lstripped)\n"
   ]
  },
  {
   "cell_type": "code",
   "execution_count": 9,
   "metadata": {},
   "outputs": [
    {
     "name": "stdout",
     "output_type": "stream",
     "text": [
      "[' Atul', 'John', ' jack', 'Sam']\n"
     ]
    }
   ],
   "source": [
    "series_rstripped = [str(ele).rstrip() for ele in series_2]\n",
    "print(series_rstripped)"
   ]
  },
  {
   "cell_type": "code",
   "execution_count": 10,
   "metadata": {},
   "outputs": [
    {
     "name": "stdout",
     "output_type": "stream",
     "text": [
      "0           India_is_big\n",
      "1     Population_is_huge\n",
      "2                    NaN\n",
      "3    Has_diverse_culture\n",
      "dtype: object\n",
      "[['India', 'is', 'big'], ['Population', 'is', 'huge'], ['nan'], ['Has', 'diverse', 'culture']]\n"
     ]
    }
   ],
   "source": [
    "series_3 = pd.Series(\n",
    "    ['India_is_big', 'Population_is_huge', np.nan, 'Has_diverse_culture'])\n",
    "print(series_3)\n",
    "\n",
    "# a) split the individual strings wherever ‘_’ comes and create a list out of it.\n",
    "list_splited = [str(ele).split(\"_\") for ele in series_3]\n",
    "print(list_splited)\n",
    "\n",
    "flatten_list = []"
   ]
  },
  {
   "cell_type": "code",
   "execution_count": 11,
   "metadata": {},
   "outputs": [
    {
     "name": "stdout",
     "output_type": "stream",
     "text": [
      "India\n",
      "is\n",
      "big\n",
      "Population\n",
      "is\n",
      "huge\n",
      "nan\n",
      "Has\n",
      "diverse\n",
      "culture\n"
     ]
    }
   ],
   "source": [
    "for sublist in list_splited:\n",
    "    for l in sublist:\n",
    "        flatten_list.append(l)\n",
    "        print(l)"
   ]
  },
  {
   "cell_type": "code",
   "execution_count": 12,
   "metadata": {},
   "outputs": [
    {
     "name": "stdout",
     "output_type": "stream",
     "text": [
      "['India', 'is', 'big', 'Population', 'is', 'huge', 'nan', 'Has', 'diverse', 'culture']\n"
     ]
    }
   ],
   "source": [
    "print(flatten_list)\n"
   ]
  },
  {
   "cell_type": "code",
   "execution_count": 13,
   "metadata": {},
   "outputs": [
    {
     "name": "stdout",
     "output_type": "stream",
     "text": [
      "0       A\n",
      "1       B\n",
      "2       C\n",
      "3    AabX\n",
      "4    BacX\n",
      "5        \n",
      "6     NaN\n",
      "7    CABA\n",
      "8     dog\n",
      "9     cat\n",
      "dtype: object\n",
      "['A', 'B', 'C', 'AabXX-XX', 'BacXX-XX', '', 'nan', 'CABA', 'XX-XX', 'cat']\n"
     ]
    }
   ],
   "source": [
    "series_4 = pd.Series(['A', 'B', 'C', 'AabX', 'BacX',\n",
    "                      '', np.nan, 'CABA', 'dog', 'cat'])\n",
    "print(series_4)\n",
    "\n",
    "series_replace_X = [str(ele).replace(\n",
    "    \"X\", \"XX-XX\").replace(\"dog\", \"XX-XX\") for ele in series_4]\n",
    "print(series_replace_X)"
   ]
  },
  {
   "cell_type": "code",
   "execution_count": 14,
   "metadata": {},
   "outputs": [
    {
     "name": "stdout",
     "output_type": "stream",
     "text": [
      "0         12\n",
      "1       -$10\n",
      "2    $10,000\n",
      "dtype: object\n",
      "['12', '-10', '10,000']\n"
     ]
    }
   ],
   "source": [
    "series_5 = pd.Series(['12', '-$10', '$10,000'])\n",
    "print(series_5)\n",
    "\n",
    "series_remove_dollar = [str(ele).replace(\"$\", \"\") for ele in series_5]\n",
    "print(series_remove_dollar)"
   ]
  },
  {
   "cell_type": "code",
   "execution_count": 15,
   "metadata": {},
   "outputs": [
    {
     "name": "stdout",
     "output_type": "stream",
     "text": [
      "0     india 1998\n",
      "1    big country\n",
      "2            NaN\n",
      "dtype: object\n",
      "2            NaN\n",
      "1    big country\n",
      "0     india 1998\n",
      "dtype: object\n"
     ]
    }
   ],
   "source": [
    "series_6 = pd.Series(['india 1998', 'big country', np.nan])\n",
    "print(series_6)\n",
    "\n",
    "print(series_6[::-1])"
   ]
  },
  {
   "cell_type": "code",
   "execution_count": 16,
   "metadata": {},
   "outputs": [
    {
     "name": "stdout",
     "output_type": "stream",
     "text": [
      "0        1\n",
      "1        2\n",
      "2       1a\n",
      "3       2b\n",
      "4    2003c\n",
      "dtype: object\n",
      "[True, True, True, True, True]\n"
     ]
    }
   ],
   "source": [
    "series_7 = pd.Series(['1', '2', '1a', '2b', '2003c'])\n",
    "print(series_7)\n",
    "\n",
    "series_aplha_check = [str(ele).isalnum() for ele in series_7]\n",
    "print(series_aplha_check)\n"
   ]
  },
  {
   "cell_type": "code",
   "execution_count": 17,
   "metadata": {},
   "outputs": [
    {
     "name": "stdout",
     "output_type": "stream",
     "text": [
      "0          1\n",
      "1          2\n",
      "2         1a\n",
      "3         2b\n",
      "4    America\n",
      "5    VietnAm\n",
      "6    vietnam\n",
      "7      2003c\n",
      "dtype: object\n",
      "[False, False, False, False, True, True, False, False]\n"
     ]
    }
   ],
   "source": [
    "series_8 = pd.Series(['1', '2', '1a', '2b', 'America',\n",
    "                      'VietnAm', 'vietnam', '2003c'])\n",
    "print(series_8)\n",
    "\n",
    "series_true_if_contains_A = [\"A\" in str(ele) for ele in series_8]\n",
    "print(series_true_if_contains_A)\n"
   ]
  },
  {
   "cell_type": "code",
   "execution_count": 18,
   "metadata": {},
   "outputs": [
    {
     "name": "stdout",
     "output_type": "stream",
     "text": [
      "0      a\n",
      "1    a|b\n",
      "2    NaN\n",
      "3    a|c\n",
      "dtype: object\n",
      "[1, 1, 0, 1]\n"
     ]
    }
   ],
   "source": [
    "series_9 = pd.Series(['a', 'a|b', np.nan, 'a|c'])\n",
    "print(series_9)\n",
    "\n",
    "series_a_b_c_exists = [1 if re.match(\n",
    "    \"[abc]\", str(ele)) else 0 for ele in series_9]\n",
    "print(series_a_b_c_exists)"
   ]
  },
  {
   "cell_type": "code",
   "execution_count": 19,
   "metadata": {},
   "outputs": [
    {
     "name": "stdout",
     "output_type": "stream",
     "text": [
      "   key  ltable\n",
      "0  One       1\n",
      "1  Two       2\n",
      "   key  rtable\n",
      "0  One       4\n",
      "1  Two       5\n",
      "   key  ltable  rtable\n",
      "0  One       1       4\n",
      "1  Two       2       5\n"
     ]
    }
   ],
   "source": [
    "df1 = pd.DataFrame({'key': ['One', 'Two'], 'ltable': [1, 2]})\n",
    "df2 = pd.DataFrame({'key': ['One', 'Two'], 'rtable': [4, 5]})\n",
    "\n",
    "print(df1)\n",
    "print(df2)\n",
    "\n",
    "df_merge = pd.merge(df1, df2, sort=True)\n",
    "print(df_merge)"
   ]
  },
  {
   "cell_type": "code",
   "execution_count": null,
   "metadata": {},
   "outputs": [],
   "source": []
  }
 ],
 "metadata": {
  "kernelspec": {
   "display_name": "Python 3",
   "language": "python",
   "name": "python3"
  },
  "language_info": {
   "codemirror_mode": {
    "name": "ipython",
    "version": 3
   },
   "file_extension": ".py",
   "mimetype": "text/x-python",
   "name": "python",
   "nbconvert_exporter": "python",
   "pygments_lexer": "ipython3",
   "version": "3.8.3"
  }
 },
 "nbformat": 4,
 "nbformat_minor": 4
}
